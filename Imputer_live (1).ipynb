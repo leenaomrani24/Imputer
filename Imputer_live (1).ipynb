{
 "cells": [
  {
   "attachments": {},
   "cell_type": "markdown",
   "metadata": {},
   "source": [
    "# Class Imputer : 1ère partie : Méthode pour remplacer les valeurs manquantes d'une liste par la moyenne des valeurs présentes."
   ]
  },
  {
   "cell_type": "code",
   "execution_count": 4,
   "metadata": {},
   "outputs": [],
   "source": [
    "\n",
    "class Imputer() :\n",
    "    def __init__(self, List) :\n",
    "        self.values=List\n",
    "        \n",
    "    def avg(self) :\n",
    "        n=0\n",
    "        sum=0\n",
    "        \n",
    "        for elt in self.values :\n",
    "            if elt!=None :\n",
    "                sum+=elt\n",
    "                n+=1\n",
    "        \n",
    "        avg=sum/n\n",
    "        print('les valeurs manquantes seront remplacées par :', avg)\n",
    "    \n",
    "        for i in range(len(self.values)) :\n",
    "            if self.values[i]==None :\n",
    "                self.values[i]=avg\n",
    "            \n",
    "        return self.values"
   ]
  },
  {
   "cell_type": "code",
   "execution_count": 5,
   "metadata": {},
   "outputs": [],
   "source": [
    "imputer1=Imputer([None, 2, 4, 6, None])"
   ]
  },
  {
   "cell_type": "code",
   "execution_count": 6,
   "metadata": {},
   "outputs": [
    {
     "name": "stdout",
     "output_type": "stream",
     "text": [
      "les valeurs manquantes seront remplacées par : 4.0\n"
     ]
    },
    {
     "data": {
      "text/plain": [
       "[4.0, 2, 4, 6, 4.0]"
      ]
     },
     "execution_count": 6,
     "metadata": {},
     "output_type": "execute_result"
    }
   ],
   "source": [
    "imputer1.avg()"
   ]
  },
  {
   "attachments": {},
   "cell_type": "markdown",
   "metadata": {},
   "source": [
    "# Class Imputer : 2ème partie : Méthode supplémentaire pour remplacer les valeurs manquantes par la médiane des valeurs présentes."
   ]
  },
  {
   "cell_type": "code",
   "execution_count": 35,
   "metadata": {},
   "outputs": [],
   "source": [
    "class Imputer() :\n",
    "    def __init__(self, List) :\n",
    "        self.values=List\n",
    "        \n",
    "    def avg(self) :\n",
    "        n=0\n",
    "        sum=0\n",
    "        \n",
    "        for elt in self.values :\n",
    "            if elt!=None :\n",
    "                sum+=elt\n",
    "                n+=1\n",
    "        \n",
    "        avg=sum/n\n",
    "        print('les valeurs manquantes seront remplacées par :', avg)\n",
    "    \n",
    "        for i in range(len(self.values)) :\n",
    "            if self.values[i]==None :\n",
    "                self.values[i]=avg\n",
    "            \n",
    "        return self.values\n",
    "    \n",
    "    def median(self) :\n",
    "        new_list =[]\n",
    "        for elt in self.values :\n",
    "            if elt != None :\n",
    "                new_list.append(elt)\n",
    "        print(new_list)\n",
    "        \n",
    "        new_list.sort()\n",
    "        print(new_list)\n",
    "        \n",
    "        if len(new_list)%2==0 :\n",
    "            med =  (new_list[(len(new_list)//2-1)] + new_list[len(new_list)//2])/2 \n",
    "        else :\n",
    "            med = new_list[(len(new_list)-1)//2]\n",
    "            \n",
    "        for i in range(len(self.values)) :\n",
    "            if self.values[i]==None :\n",
    "                self.values[i]=med\n",
    "                \n",
    "        return self.values\n",
    "                "
   ]
  },
  {
   "cell_type": "code",
   "execution_count": 19,
   "metadata": {},
   "outputs": [],
   "source": [
    "imputer1=Imputer([2,None,3, 1, None,1,9,56,78])"
   ]
  },
  {
   "cell_type": "code",
   "execution_count": 20,
   "metadata": {},
   "outputs": [
    {
     "name": "stdout",
     "output_type": "stream",
     "text": [
      "[2, 3, 1, 1, 9, 56, 78]\n",
      "[1, 1, 2, 3, 9, 56, 78]\n"
     ]
    },
    {
     "data": {
      "text/plain": [
       "3"
      ]
     },
     "execution_count": 20,
     "metadata": {},
     "output_type": "execute_result"
    }
   ],
   "source": [
    "imputer1.median()"
   ]
  },
  {
   "cell_type": "code",
   "execution_count": 26,
   "metadata": {},
   "outputs": [],
   "source": [
    "imputer2=Imputer([1,2,5,4,7,8,10,None,12])"
   ]
  },
  {
   "cell_type": "code",
   "execution_count": 27,
   "metadata": {},
   "outputs": [
    {
     "name": "stdout",
     "output_type": "stream",
     "text": [
      "[1, 2, 5, 4, 7, 8, 10, 12]\n",
      "[1, 2, 4, 5, 7, 8, 10, 12]\n"
     ]
    },
    {
     "data": {
      "text/plain": [
       "6.0"
      ]
     },
     "execution_count": 27,
     "metadata": {},
     "output_type": "execute_result"
    }
   ],
   "source": [
    "imputer2.median()"
   ]
  },
  {
   "cell_type": "code",
   "execution_count": 29,
   "metadata": {},
   "outputs": [],
   "source": [
    "imputer3=Imputer([None,2,3,12,5,6,None])"
   ]
  },
  {
   "cell_type": "code",
   "execution_count": 31,
   "metadata": {},
   "outputs": [
    {
     "name": "stdout",
     "output_type": "stream",
     "text": [
      "les valeurs manquantes seront remplacées par : 5.6\n"
     ]
    },
    {
     "data": {
      "text/plain": [
       "[5.6, 2, 3, 12, 5, 6, 5.6]"
      ]
     },
     "execution_count": 31,
     "metadata": {},
     "output_type": "execute_result"
    }
   ],
   "source": [
    "imputer3.avg()"
   ]
  },
  {
   "cell_type": "code",
   "execution_count": 36,
   "metadata": {},
   "outputs": [
    {
     "name": "stdout",
     "output_type": "stream",
     "text": [
      "[2, 3, 12, 5, 6]\n",
      "[2, 3, 5, 6, 12]\n"
     ]
    },
    {
     "data": {
      "text/plain": [
       "[5, 2, 3, 12, 5, 6, 5]"
      ]
     },
     "execution_count": 36,
     "metadata": {},
     "output_type": "execute_result"
    }
   ],
   "source": [
    "imputer3=Imputer([None,2,3,12,5,6,None])\n",
    "imputer3.median()"
   ]
  },
  {
   "cell_type": "code",
   "execution_count": null,
   "metadata": {},
   "outputs": [],
   "source": []
  }
 ],
 "metadata": {
  "kernelspec": {
   "display_name": "base",
   "language": "python",
   "name": "python3"
  },
  "language_info": {
   "codemirror_mode": {
    "name": "ipython",
    "version": 3
   },
   "file_extension": ".py",
   "mimetype": "text/x-python",
   "name": "python",
   "nbconvert_exporter": "python",
   "pygments_lexer": "ipython3",
   "version": "3.9.13"
  },
  "orig_nbformat": 4,
  "vscode": {
   "interpreter": {
    "hash": "b902f0996409250bd3038436e21c70e3a2207d3fe5c41019ba7c0716c41809da"
   }
  }
 },
 "nbformat": 4,
 "nbformat_minor": 2
}
